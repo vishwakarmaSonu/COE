{
 "cells": [
  {
   "cell_type": "code",
   "execution_count": 15,
   "id": "e7c0c0e2",
   "metadata": {},
   "outputs": [],
   "source": [
    "class calculator:\n",
    "    \n",
    "    def __init__(self):\n",
    "        print(\"Please select operation -\\n\" \\\n",
    "        \"1. Add\\n\" \\\n",
    "        \"2. Subtract\\n\" \\\n",
    "        \"3. Multiply\\n\" \\\n",
    "        \"4. Divide\\n\")\n",
    "        select = int(input(\"Select operations form 1, 2, 3, 4 :\"))\n",
    " \n",
    "        number_1 = int(input(\"Enter first number: \"))\n",
    "        number_2 = int(input(\"Enter second number: \"))\n",
    "       \n",
    " \n",
    "        if select == 1:\n",
    "        \n",
    "            print(number_1, \"+\", number_2, \"=\",\n",
    "                    (number_1+ number_2))\n",
    " \n",
    "        elif select == 2:\n",
    "            print(number_1, \"-\", number_2, \"=\",\n",
    "                    (number_1- number_2))\n",
    " \n",
    "        elif select == 3:\n",
    "            print(number_1, \"*\", number_2, \"=\",\n",
    "                    (number_1* number_2))\n",
    " \n",
    "        elif select == 4:\n",
    "            print(number_1, \"/\", number_2, \"=\",\n",
    "                    (number_1/ number_2))\n",
    "        else:\n",
    "            print(\"Invalid input\")\n",
    "            \n",
    "            \n",
    "        \n",
    " \n",
    "        \n",
    "        \n",
    "        \n",
    "        "
   ]
  },
  {
   "cell_type": "code",
   "execution_count": 16,
   "id": "2ca7b338",
   "metadata": {},
   "outputs": [
    {
     "name": "stdout",
     "output_type": "stream",
     "text": [
      "Please select operation -\n",
      "1. Add\n",
      "2. Subtract\n",
      "3. Multiply\n",
      "4. Divide\n",
      "\n",
      "Select operations form 1, 2, 3, 4 :7\n",
      "Enter first number: 6\n",
      "Enter second number: 4\n",
      "Invalid input\n"
     ]
    }
   ],
   "source": [
    "s1 = calculator()"
   ]
  },
  {
   "cell_type": "code",
   "execution_count": null,
   "id": "a8e52a78",
   "metadata": {},
   "outputs": [],
   "source": []
  }
 ],
 "metadata": {
  "kernelspec": {
   "display_name": "Python 3 (ipykernel)",
   "language": "python",
   "name": "python3"
  },
  "language_info": {
   "codemirror_mode": {
    "name": "ipython",
    "version": 3
   },
   "file_extension": ".py",
   "mimetype": "text/x-python",
   "name": "python",
   "nbconvert_exporter": "python",
   "pygments_lexer": "ipython3",
   "version": "3.8.3"
  }
 },
 "nbformat": 4,
 "nbformat_minor": 5
}
